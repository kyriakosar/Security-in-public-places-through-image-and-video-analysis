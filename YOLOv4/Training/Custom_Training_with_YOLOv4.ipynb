{
  "nbformat": 4,
  "nbformat_minor": 0,
  "metadata": {
    "colab": {
      "name": "Custom Training with YOLOv4.ipynb",
      "provenance": [],
      "collapsed_sections": []
    },
    "kernelspec": {
      "name": "python3",
      "display_name": "Python 3"
    },
    "language_info": {
      "name": "python"
    }
  },
  "cells": [
    {
      "cell_type": "code",
      "metadata": {
        "id": "AirM2hehA52t"
      },
      "source": [
        "# clone darknet repo\n",
        "!git clone https://github.com/AlexeyAB/darknet"
      ],
      "execution_count": null,
      "outputs": []
    },
    {
      "cell_type": "code",
      "metadata": {
        "id": "hMZMtjUdBF7W"
      },
      "source": [
        "# change makefile to have GPU and OPENCV enabled\n",
        "%cd darknet\n",
        "!sed -i 's/OPENCV=0/OPENCV=1/' Makefile\n",
        "!sed -i 's/GPU=0/GPU=1/' Makefile\n",
        "!sed -i 's/CUDNN=0/CUDNN=1/' Makefile\n",
        "!sed -i 's/CUDNN_HALF=0/CUDNN_HALF=1/' Makefile"
      ],
      "execution_count": null,
      "outputs": []
    },
    {
      "cell_type": "code",
      "metadata": {
        "id": "CXJwcM87BJUA"
      },
      "source": [
        "# verify CUDA\n",
        "!/usr/local/cuda/bin/nvcc --version"
      ],
      "execution_count": null,
      "outputs": []
    },
    {
      "cell_type": "code",
      "metadata": {
        "id": "f4gLkK8kBK9g"
      },
      "source": [
        "# make darknet (builds darknet so that i can use the darknet executable file to run or train object detectors)\n",
        "!make"
      ],
      "execution_count": null,
      "outputs": []
    },
    {
      "cell_type": "code",
      "metadata": {
        "id": "XZ9Nvlk8BZPT"
      },
      "source": [
        "# define helper functions\n",
        "def imShow(path):\n",
        "  import cv2\n",
        "  import matplotlib.pyplot as plt\n",
        "  %matplotlib inline\n",
        "\n",
        "  image = cv2.imread(path)\n",
        "  height, width = image.shape[:2]\n",
        "  resized_image = cv2.resize(image,(3*width, 3*height), interpolation = cv2.INTER_CUBIC)\n",
        "\n",
        "  fig = plt.gcf()\n",
        "  fig.set_size_inches(18, 10)\n",
        "  plt.axis(\"off\")\n",
        "  plt.imshow(cv2.cvtColor(resized_image, cv2.COLOR_BGR2RGB))\n",
        "  plt.show()\n",
        "\n",
        "# use this to upload files\n",
        "def upload():\n",
        "  from google.colab import files\n",
        "  uploaded = files.upload() \n",
        "  for name, data in uploaded.items():\n",
        "    with open(name, 'wb') as f:\n",
        "      f.write(data)\n",
        "      print ('saved file', name)\n",
        "\n",
        "# use this to download a file  \n",
        "def download(path):\n",
        "  from google.colab import files\n",
        "  files.download(path)"
      ],
      "execution_count": null,
      "outputs": []
    },
    {
      "cell_type": "code",
      "metadata": {
        "id": "12HwjRCHBfOj"
      },
      "source": [
        "#Images can be uploaded from your Google Drive and easily have YOLOv4 detections run on them.\n",
        "%cd ..\n",
        "from google.colab import drive\n",
        "drive.mount('/content/gdrive')\n"
      ],
      "execution_count": null,
      "outputs": []
    },
    {
      "cell_type": "code",
      "metadata": {
        "id": "mmP8BZzUBvhj"
      },
      "source": [
        "# this creates a symbolic link so that now the path /content/gdrive/My\\ Drive/ is equal to /mydrive\n",
        "!ln -s /content/gdrive/My\\ Drive/ /mydrive\n",
        "!ls /mydrive"
      ],
      "execution_count": null,
      "outputs": []
    },
    {
      "cell_type": "code",
      "metadata": {
        "id": "USlRNqjbB7tD"
      },
      "source": [
        "# this is where my datasets are stored within my Google Drive \n",
        "!ls /mydrive/yolov4/custom"
      ],
      "execution_count": null,
      "outputs": []
    },
    {
      "cell_type": "code",
      "metadata": {
        "id": "kNGheww-B92s"
      },
      "source": [
        "# copy over both datasets into the root directory of the Colab VM\n",
        "!cp /mydrive/yolov4/custom/obj.zip ../\n",
        "!cp /mydrive/yolov4/custom/test.zip ../"
      ],
      "execution_count": null,
      "outputs": []
    },
    {
      "cell_type": "code",
      "metadata": {
        "id": "mSwq89bzB_mk"
      },
      "source": [
        "# unzip the datasets and their contents so that they are now in /darknet/data/ folder\n",
        "!unzip ../obj.zip -d data/\n",
        "!unzip ../test.zip -d data/"
      ],
      "execution_count": null,
      "outputs": []
    },
    {
      "cell_type": "markdown",
      "metadata": {
        "id": "UDkFpQBZDRaW"
      },
      "source": [
        "These are the changes for the yolov4-obj.cfg file\n",
        "\n",
        "\n",
        "I had batch = 64 and subdivisions = 16 for ultimate results.\n",
        "\n",
        "Note: I set my max_batches = 12000, steps = 9600, 10800, I set the classes = 6 in the three YOLO layers and filters = 33 in the three convolutional layers before the YOLO layers.\n",
        "\n",
        "How to Configure My Variables:\n",
        "\n",
        "width = 416\n",
        "\n",
        "height = 416 (these can be any multiple of 32, 416 is standard, you can sometimes improve results by making value larger like 608 but will slow down training)\n",
        "\n",
        "max_batches = (# of classes) * 2000 (but no less than 6000 so if you are training for 1, 2, or 3 classes it will be 6000, however detector for 5 classes would have max_batches=10000)\n",
        "\n",
        "steps = (80% of max_batches), (90% of max_batches) (so if your max_batches = 10000, then steps = 8000, 9000)\n",
        "\n",
        "filters = (# of classes + 5) * 3 (so if you are training for one class then your filters = 18, but if you are training for 4 classes then your filters = 27)\n",
        "\n",
        "\n"
      ]
    },
    {
      "cell_type": "code",
      "metadata": {
        "id": "S_QMWrbhCDAz"
      },
      "source": [
        "# upload the custom .cfg back to cloud VM from Google Drive\n",
        "!cp /mydrive/yolov4/yolov4-obj.cfg ./cfg"
      ],
      "execution_count": null,
      "outputs": []
    },
    {
      "cell_type": "markdown",
      "metadata": {
        "id": "b61wOOz2EFkE"
      },
      "source": [
        "\n",
        "My obj.data file\n",
        "\n",
        "![Capturedata.JPG](data:image/jpeg;base64,/9j/4AAQSkZJRgABAQEAeAB4AAD/4REERXhpZgAATU0AKgAAAAgABAE7AAIAAAATAAAISodpAAQAAAABAAAIXpydAAEAAAAmAAAQ1uocAAcAAAgMAAAAPgAAAAAc6gAAAAgAAAAAAAAAAAAAAAAAAAAAAAAAAAAAAAAAAAAAAAAAAAAAAAAAAAAAAAAAAAAAAAAAAAAAAAAAAAAAAAAAAAAAAAAAAAAAAAAAAAAAAAAAAAAAAAAAAAAAAAAAAAAAAAAAAAAAAAAAAAAAAAAAAAAAAAAAAAAAAAAAAAAAAAAAAAAAAAAAAAAAAAAAAAAAAAAAAAAAAAAAAAAAAAAAAAAAAAAAAAAAAAAAAAAAAAAAAAAAAAAAAAAAAAAAAAAAAAAAAAAAAAAAAAAAAAAAAAAAAAAAAAAAAAAAAAAAAAAAAAAAAAAAAAAAAAAAAAAAAAAAAAAAAAAAAAAAAAAAAAAAAAAAAAAAAAAAAAAAAAAAAAAAAAAAAAAAAAAAAAAAAAAAAAAAAAAAAAAAAAAAAAAAAAAAAAAAAAAAAAAAAAAAAAAAAAAAAAAAAAAAAAAAAAAAAAAAAAAAAAAAAAAAAAAAAAAAAAAAAAAAAAAAAAAAAAAAAAAAAAAAAAAAAAAAAAAAAAAAAAAAAAAAAAAAAAAAAAAAAAAAAAAAAAAAAAAAAAAAAAAAAAAAAAAAAAAAAAAAAAAAAAAAAAAAAAAAAAAAAAAAAAAAAAAAAAAAAAAAAAAAAAAAAAAAAAAAAAAAAAAAAAAAAAAAAAAAAAAAAAAAAAAAAAAAAAAAAAAAAAAAAAAAAAAAAAAAAAAAAAAAAAAAAAAAAAAAAAAAAAAAAAAAAAAAAAAAAAAAAAAAAAAAAAAAAAAAAAAAAAAAAAAAAAAAAAAAAAAAAAAAAAAAAAAAAAAAAAAAAAAAAAAAAAAAAAAAAAAAAAAAAAAAAAAAAAAAAAAAAAAAAAAAAAAAAAAAAAAAAAAAAAAAAAAAAAAAAAAAAAAAAAAAAAAAAAAAAAAAAAAAAAAAAAAAAAAAAAAAAAAAAAAAAAAAAAAAAAAAAAAAAAAAAAAAAAAAAAAAAAAAAAAAAAAAAAAAAAAAAAAAAAAAAAAAAAAAAAAAAAAAAAAAAAAAAAAAAAAAAAAAAAAAAAAAAAAAAAAAAAAAAAAAAAAAAAAAAAAAAAAAAAAAAAAAAAAAAAAAAAAAAAAAAAAAAAAAAAAAAAAAAAAAAAAAAAAAAAAAAAAAAAAAAAAAAAAAAAAAAAAAAAAAAAAAAAAAAAAAAAAAAAAAAAAAAAAAAAAAAAAAAAAAAAAAAAAAAAAAAAAAAAAAAAAAAAAAAAAAAAAAAAAAAAAAAAAAAAAAAAAAAAAAAAAAAAAAAAAAAAAAAAAAAAAAAAAAAAAAAAAAAAAAAAAAAAAAAAAAAAAAAAAAAAAAAAAAAAAAAAAAAAAAAAAAAAAAAAAAAAAAAAAAAAAAAAAAAAAAAAAAAAAAAAAAAAAAAAAAAAAAAAAAAAAAAAAAAAAAAAAAAAAAAAAAAAAAAAAAAAAAAAAAAAAAAAAAAAAAAAAAAAAAAAAAAAAAAAAAAAAAAAAAAAAAAAAAAAAAAAAAAAAAAAAAAAAAAAAAAAAAAAAAAAAAAAAAAAAAAAAAAAAAAAAAAAAAAAAAAAAAAAAAAAAAAAAAAAAAAAAAAAAAAAAAAAAAAAAAAAAAAAAAAAAAAAAAAAAAAAAAAAAAAAAAAAAAAAAAAAAAAAAAAAAAAAAAAAAAAAAAAAAAAAAAAAAAAAAAAAAAAAAAAAAAAAAAAAAAAAAAAAAAAAAAAAAAAAAAAAAAAAAAAAAAAAAAAAAAAAAAAAAAAAAAAAAAAAAAAAAAAAAAAAAAAAAAAAAAAAAAAAAAAAAAAAAAAAAAAAAAAAAAAAAAAAAAAAAAAAAAAAAAAAAAAAAAAAAAAAAAAAAAAAAAAAAAAAAAAAAAAAAAAAAAAAAAAAAAAAAAAAAAAAAAAAAAAAAAAAAAAAAAAAAAAAAAAAAAAAAAAAAAAAAAAAAAAAAAAAAAAAAAAAAAAAAAAAAAAAAAAAAAAAAAAAAAAAAAAAAAAAAAAAAAAAAAAAAAAAAAAAAAAAAAAAAAAAAAAAAAAAAAAAAAAAAAAAAAAAAAAAAAAAAAAAAAAAAAAAAAAAAAAAAAAAAAAAAAAAAAAAAAAAAAAAAAAAAAAAAAAAAAAAAAAAAAAAAAAAAAAAAAAAAAAAAAAAAAAAAAAAAAAAAAAAAAAAAAAAAAAAAAAAAAAAAAAAAAAAAAAAAAAAAAAAAAAAAAAAAAAAAAAAAAAAAAAAAAAAAAAAAAAAAAAAAAAAAAAAAAAAAAAAAAAAAAAAAAAAAAAAAAAAAAAAAAAAAAAAAAAAAAAAAAAAAAAAAAAAAAAAAAAAAAAAAAAAAAAAAAAAAAAAAAAAAAAAAAAAAAAAAAAAAAAAAAAAAAAAAAAAAAAAAAAAAAAAAAAAAAAAAAAAAAAAAAAAAAAAAAAAAAAAAAAAAAAAAAAAAAAAAAAAAAAAAAAAAAAAAAAAAAAAAAAAAAAAAAAAAAAAAAAAAAAAAAAAAAAAAAAAAAAAAAAAAAAAAAAAAAAAAAAAAAAAAAAAAAAAAAAAAAAAAAAAAAAAAAAAAAAAAAAAAAAAAAAAAAAAAAAAAAAAAAAAAAAAAAAAAAAAAAAAAAAAAAAAAAAAAAAAAAAAAAAAAAAAAAAAAAAAAAAAAAAAAAAAAAAAAAAAAAAAAAAAAAAAAAAAAAAAAAAAAAAAAAAAAAAAAAAAAAAAAAAAAAAAAAAAAAAAAAAAAAAAAAAAAAAAAAAAAAAAAAAAAAAAAAAAAAAAAAAAAAAAAAAAAAAEt5cmlha29zIEFyaXN0aWRvdQAAAAWQAwACAAAAFAAAEKyQBAACAAAAFAAAEMCSkQACAAAAAzQ1AACSkgACAAAAAzQ1AADqHAAHAAAIDAAACKAAAAAAHOoAAAAIAAAAAAAAAAAAAAAAAAAAAAAAAAAAAAAAAAAAAAAAAAAAAAAAAAAAAAAAAAAAAAAAAAAAAAAAAAAAAAAAAAAAAAAAAAAAAAAAAAAAAAAAAAAAAAAAAAAAAAAAAAAAAAAAAAAAAAAAAAAAAAAAAAAAAAAAAAAAAAAAAAAAAAAAAAAAAAAAAAAAAAAAAAAAAAAAAAAAAAAAAAAAAAAAAAAAAAAAAAAAAAAAAAAAAAAAAAAAAAAAAAAAAAAAAAAAAAAAAAAAAAAAAAAAAAAAAAAAAAAAAAAAAAAAAAAAAAAAAAAAAAAAAAAAAAAAAAAAAAAAAAAAAAAAAAAAAAAAAAAAAAAAAAAAAAAAAAAAAAAAAAAAAAAAAAAAAAAAAAAAAAAAAAAAAAAAAAAAAAAAAAAAAAAAAAAAAAAAAAAAAAAAAAAAAAAAAAAAAAAAAAAAAAAAAAAAAAAAAAAAAAAAAAAAAAAAAAAAAAAAAAAAAAAAAAAAAAAAAAAAAAAAAAAAAAAAAAAAAAAAAAAAAAAAAAAAAAAAAAAAAAAAAAAAAAAAAAAAAAAAAAAAAAAAAAAAAAAAAAAAAAAAAAAAAAAAAAAAAAAAAAAAAAAAAAAAAAAAAAAAAAAAAAAAAAAAAAAAAAAAAAAAAAAAAAAAAAAAAAAAAAAAAAAAAAAAAAAAAAAAAAAAAAAAAAAAAAAAAAAAAAAAAAAAAAAAAAAAAAAAAAAAAAAAAAAAAAAAAAAAAAAAAAAAAAAAAAAAAAAAAAAAAAAAAAAAAAAAAAAAAAAAAAAAAAAAAAAAAAAAAAAAAAAAAAAAAAAAAAAAAAAAAAAAAAAAAAAAAAAAAAAAAAAAAAAAAAAAAAAAAAAAAAAAAAAAAAAAAAAAAAAAAAAAAAAAAAAAAAAAAAAAAAAAAAAAAAAAAAAAAAAAAAAAAAAAAAAAAAAAAAAAAAAAAAAAAAAAAAAAAAAAAAAAAAAAAAAAAAAAAAAAAAAAAAAAAAAAAAAAAAAAAAAAAAAAAAAAAAAAAAAAAAAAAAAAAAAAAAAAAAAAAAAAAAAAAAAAAAAAAAAAAAAAAAAAAAAAAAAAAAAAAAAAAAAAAAAAAAAAAAAAAAAAAAAAAAAAAAAAAAAAAAAAAAAAAAAAAAAAAAAAAAAAAAAAAAAAAAAAAAAAAAAAAAAAAAAAAAAAAAAAAAAAAAAAAAAAAAAAAAAAAAAAAAAAAAAAAAAAAAAAAAAAAAAAAAAAAAAAAAAAAAAAAAAAAAAAAAAAAAAAAAAAAAAAAAAAAAAAAAAAAAAAAAAAAAAAAAAAAAAAAAAAAAAAAAAAAAAAAAAAAAAAAAAAAAAAAAAAAAAAAAAAAAAAAAAAAAAAAAAAAAAAAAAAAAAAAAAAAAAAAAAAAAAAAAAAAAAAAAAAAAAAAAAAAAAAAAAAAAAAAAAAAAAAAAAAAAAAAAAAAAAAAAAAAAAAAAAAAAAAAAAAAAAAAAAAAAAAAAAAAAAAAAAAAAAAAAAAAAAAAAAAAAAAAAAAAAAAAAAAAAAAAAAAAAAAAAAAAAAAAAAAAAAAAAAAAAAAAAAAAAAAAAAAAAAAAAAAAAAAAAAAAAAAAAAAAAAAAAAAAAAAAAAAAAAAAAAAAAAAAAAAAAAAAAAAAAAAAAAAAAAAAAAAAAAAAAAAAAAAAAAAAAAAAAAAAAAAAAAAAAAAAAAAAAAAAAAAAAAAAAAAAAAAAAAAAAAAAAAAAAAAAAAAAAAAAAAAAAAAAAAAAAAAAAAAAAAAAAAAAAAAAAAAAAAAAAAAAAAAAAAAAAAAAAAAAAAAAAAAAAAAAAAAAAAAAAAAAAAAAAAAAAAAAAAAAAAAAAAAAAAAAAAAAAAAAAAAAAAAAAAAAAAAAAAAAAAAAAAAAAAAAAAAAAAAAAAAAAAAAAAAAAAAAAAAAAAAAAAAAAAAAAAAAAAAAAAAAAAAAAAAAAAAAAAAAAAAAAAAAAAAAAAAAAAAAAAAAAAAAAAAAAAAAAAAAAAAAAAAAAAAAAAAAAAAAAAAAAAAAAAAAAAAAAAAAAAAAAAAAAAAAAAAAAAAAAAAAAAAAAAAAAAAAAAAAAAAAAAAAAAAAAAAAAAAAAAAAAAAAAAAAAAAAAAAAAAAAAAAAAAAAAAAAAAAAAAAAAAAAAAAAAAAAAAAAAAAAAAAAAAAAAAAAAAAAAAAAAAAAAAAAAAAAAAAAAAAAAAAAAAAAAAAAAAAAAAAAAAAAAAAAAAAAAAAAAAAAAAAAAAAAAAAAAAAAAAAAAAAAAAAAAAAAAAAAAAAAAAAAAAAAAAAAAAAAAAAAAAAAAAAAAAAAAAAAAAAAAAAAAAAAAAAAAAAAAAAAAAAAAAAAAAAAAAAAAAAAAAAAAAAAAAAAAAAAAAAAAAAAAAAAAAAAAAAAAAAAAAAAAAAAAAAAAAAAAAAAAAAAAAAAAAAAAAAAAAAAAAAAAAAAAAAAAAAAAAAAAAAAAAAAAAAAAAAAAAAAAAAAAAAAAAAAAAAAAAAAAAAAAAAAAAAAAAAAAAAAAAAAAAAAAAAAAAAAAAAAAAAAAAAAAAAAAAAAAAAAAAAAAAAAAAAAAAAAAAAAAAAAAAAAAAAAAAAAAAAAAAAAAAAAAAAAAAAAAAAAAAAAAAAAAAAAAAAAAAAAAAAAAAAAAAAAAAAAAAAAAAAAAAAAAAAAAAAAAAAAAAAAAAAAAAAAAAAAAAAAAAAAAAAAAAAAAAAAAAAAAAAAAAAAAAAAAAAAAAyMDIxOjA1OjA5IDE5OjU5OjE3ADIwMjE6MDU6MDkgMTk6NTk6MTcAAABLAHkAcgBpAGEAawBvAHMAIABBAHIAaQBzAHQAaQBkAG8AdQAAAP/hCyVodHRwOi8vbnMuYWRvYmUuY29tL3hhcC8xLjAvADw/eHBhY2tldCBiZWdpbj0n77u/JyBpZD0nVzVNME1wQ2VoaUh6cmVTek5UY3prYzlkJz8+DQo8eDp4bXBtZXRhIHhtbG5zOng9ImFkb2JlOm5zOm1ldGEvIj48cmRmOlJERiB4bWxuczpyZGY9Imh0dHA6Ly93d3cudzMub3JnLzE5OTkvMDIvMjItcmRmLXN5bnRheC1ucyMiPjxyZGY6RGVzY3JpcHRpb24gcmRmOmFib3V0PSJ1dWlkOmZhZjViZGQ1LWJhM2QtMTFkYS1hZDMxLWQzM2Q3NTE4MmYxYiIgeG1sbnM6ZGM9Imh0dHA6Ly9wdXJsLm9yZy9kYy9lbGVtZW50cy8xLjEvIi8+PHJkZjpEZXNjcmlwdGlvbiByZGY6YWJvdXQ9InV1aWQ6ZmFmNWJkZDUtYmEzZC0xMWRhLWFkMzEtZDMzZDc1MTgyZjFiIiB4bWxuczp4bXA9Imh0dHA6Ly9ucy5hZG9iZS5jb20veGFwLzEuMC8iPjx4bXA6Q3JlYXRlRGF0ZT4yMDIxLTA1LTA5VDE5OjU5OjE3LjQ0OTwveG1wOkNyZWF0ZURhdGU+PC9yZGY6RGVzY3JpcHRpb24+PHJkZjpEZXNjcmlwdGlvbiByZGY6YWJvdXQ9InV1aWQ6ZmFmNWJkZDUtYmEzZC0xMWRhLWFkMzEtZDMzZDc1MTgyZjFiIiB4bWxuczpkYz0iaHR0cDovL3B1cmwub3JnL2RjL2VsZW1lbnRzLzEuMS8iPjxkYzpjcmVhdG9yPjxyZGY6U2VxIHhtbG5zOnJkZj0iaHR0cDovL3d3dy53My5vcmcvMTk5OS8wMi8yMi1yZGYtc3ludGF4LW5zIyI+PHJkZjpsaT5LeXJpYWtvcyBBcmlzdGlkb3U8L3JkZjpsaT48L3JkZjpTZXE+DQoJCQk8L2RjOmNyZWF0b3I+PC9yZGY6RGVzY3JpcHRpb24+PC9yZGY6UkRGPjwveDp4bXBtZXRhPg0KICAgICAgICAgICAgICAgICAgICAgICAgICAgICAgICAgICAgICAgICAgICAgICAgICAgICAgICAgICAgICAgICAgICAgICAgICAgICAgICAgICAgICAgICAgICAgICAgICAgIAogICAgICAgICAgICAgICAgICAgICAgICAgICAgICAgICAgICAgICAgICAgICAgICAgICAgICAgICAgICAgICAgICAgICAgICAgICAgICAgICAgICAgICAgICAgICAgICAgICAgCiAgICAgICAgICAgICAgICAgICAgICAgICAgICAgICAgICAgICAgICAgICAgICAgICAgICAgICAgICAgICAgICAgICAgICAgICAgICAgICAgICAgICAgICAgICAgICAgICAgICAKICAgICAgICAgICAgICAgICAgICAgICAgICAgICAgICAgICAgICAgICAgICAgICAgICAgICAgICAgICAgICAgICAgICAgICAgICAgICAgICAgICAgICAgICAgICAgICAgICAgIAogICAgICAgICAgICAgICAgICAgICAgICAgICAgICAgICAgICAgICAgICAgICAgICAgICAgICAgICAgICAgICAgICAgICAgICAgICAgICAgICAgICAgICAgICAgICAgICAgICAgCiAgICAgICAgICAgICAgICAgICAgICAgICAgICAgICAgICAgICAgICAgICAgICAgICAgICAgICAgICAgICAgICAgICAgICAgICAgICAgICAgICAgICAgICAgICAgICAgICAgICAKICAgICAgICAgICAgICAgICAgICAgICAgICAgICAgICAgICAgICAgICAgICAgICAgICAgICAgICAgICAgICAgICAgICAgICAgICAgICAgICAgICAgICAgICAgICAgICAgICAgIAogICAgICAgICAgICAgICAgICAgICAgICAgICAgICAgICAgICAgICAgICAgICAgICAgICAgICAgICAgICAgICAgICAgICAgICAgICAgICAgICAgICAgICAgICAgICAgICAgICAgCiAgICAgICAgICAgICAgICAgICAgICAgICAgICAgICAgICAgICAgICAgICAgICAgICAgICAgICAgICAgICAgICAgICAgICAgICAgICAgICAgICAgICAgICAgICAgICAgICAgICAKICAgICAgICAgICAgICAgICAgICAgICAgICAgICAgICAgICAgICAgICAgICAgICAgICAgICAgICAgICAgICAgICAgICAgICAgICAgICAgICAgICAgICAgICAgICAgICAgICAgIAogICAgICAgICAgICAgICAgICAgICAgICAgICAgICAgICAgICAgICAgICAgICAgICAgICAgICAgICAgICAgICAgICAgICAgICAgICAgICAgICAgICAgICAgICAgICAgICAgICAgCiAgICAgICAgICAgICAgICAgICAgICAgICAgICAgICAgICAgICAgICAgICAgICAgICAgICAgICAgICAgICAgICAgICAgICAgICAgICAgICAgICAgICAgICAgICAgICAgICAgICAKICAgICAgICAgICAgICAgICAgICAgICAgICAgICAgICAgICAgICAgICAgICAgICAgICAgICAgICAgICAgICAgICAgICAgICAgICAgICAgICAgICAgICAgICAgICAgICAgICAgIAogICAgICAgICAgICAgICAgICAgICAgICAgICAgICAgICAgICAgICAgICAgICAgICAgICAgICAgICAgICAgICAgICAgICAgICAgICAgICAgICAgICAgICAgICAgICAgICAgICAgCiAgICAgICAgICAgICAgICAgICAgICAgICAgICAgICAgICAgICAgICAgICAgICAgICAgICAgICAgICAgICAgICAgICAgICAgICAgICAgICAgICAgICAgICAgICAgICAgICAgICAKICAgICAgICAgICAgICAgICAgICAgICAgICAgICAgICAgICAgICAgICAgICAgICAgICAgICAgICAgICAgICAgICAgICAgICAgICAgICAgICAgICAgICAgICAgICAgICAgICAgIAogICAgICAgICAgICAgICAgICAgICAgICAgICAgICAgICAgICAgICAgICAgICAgICAgICAgICAgICAgICAgICAgICAgICAgICAgICAgICAgICAgICAgICAgICAgICAgICAgICAgCiAgICAgICAgICAgICAgICAgICAgICAgICAgICAgICAgICAgICAgICAgICAgICAgICAgICAgICAgICAgICAgICAgICAgICAgICAgICAgICAgICAgICAgICAgICAgICAgICAgICAKICAgICAgICAgICAgICAgICAgICAgICAgICAgICAgICAgICAgICAgICAgICAgICAgICAgICAgICAgICAgICAgICAgICAgICAgICAgICAgICAgICAgICAgICAgICAgICAgICAgIAogICAgICAgICAgICAgICAgICAgICAgICAgICAgICAgICAgICAgICAgICAgICAgICAgICAgICAgICAgICAgICAgICAgICAgICAgICAgICAgICAgICAgICAgICAgICAgICAgICAgCiAgICAgICAgICAgICAgICAgICAgICAgICAgICA8P3hwYWNrZXQgZW5kPSd3Jz8+/9sAQwAHBQUGBQQHBgUGCAcHCAoRCwoJCQoVDxAMERgVGhkYFRgXGx4nIRsdJR0XGCIuIiUoKSssKxogLzMvKjInKisq/9sAQwEHCAgKCQoUCwsUKhwYHCoqKioqKioqKioqKioqKioqKioqKioqKioqKioqKioqKioqKioqKioqKioqKioqKioq/8AAEQgAfAHbAwEiAAIRAQMRAf/EAB8AAAEFAQEBAQEBAAAAAAAAAAABAgMEBQYHCAkKC//EALUQAAIBAwMCBAMFBQQEAAABfQECAwAEEQUSITFBBhNRYQcicRQygZGhCCNCscEVUtHwJDNicoIJChYXGBkaJSYnKCkqNDU2Nzg5OkNERUZHSElKU1RVVldYWVpjZGVmZ2hpanN0dXZ3eHl6g4SFhoeIiYqSk5SVlpeYmZqio6Slpqeoqaqys7S1tre4ubrCw8TFxsfIycrS09TV1tfY2drh4uPk5ebn6Onq8fLz9PX29/j5+v/EAB8BAAMBAQEBAQEBAQEAAAAAAAABAgMEBQYHCAkKC//EALURAAIBAgQEAwQHBQQEAAECdwABAgMRBAUhMQYSQVEHYXETIjKBCBRCkaGxwQkjM1LwFWJy0QoWJDThJfEXGBkaJicoKSo1Njc4OTpDREVGR0hJSlNUVVZXWFlaY2RlZmdoaWpzdHV2d3h5eoKDhIWGh4iJipKTlJWWl5iZmqKjpKWmp6ipqrKztLW2t7i5usLDxMXGx8jJytLT1NXW19jZ2uLj5OXm5+jp6vLz9PX29/j5+v/aAAwDAQACEQMRAD8A8PooooAt2ml3t9HJJawM8cYJZyQAMDJGT1OOcDmqlbvhiWRr2dGdiiWc+1SeFyvOB2rCo6h0CiiigAoorsfAcbJZeIL7T4ll1izshJZAoGaP5wJJFB/iVeh7Zo6XDrY5S1W2e6Rb6WWGAn53hiEjD6KWUH8xWp4p0BPDupwW0N213HPaxXKSPD5ZAcZAK7m5H1qrqeo6rqiW9xq89xdcMsVxcZZmAPI3nlgCemTjPvXSfEGB7rxNo9vFjfLpdmi7jgZKYGTSd7K3e34P/IV9de36o4uivYLe0uIv+Eo0PVNWv9WWx0p/Nt3sQlnbyKgZPLO/5SMfLhFzgkdKyvDt++r6bo/hqxvL/wAPaj5cmxBBvtNRDDIaVeDzggkq64H4U/T+tx+v9bf5nmlFdp4Z1qHR9BvdNuptQ0iS6u1Ees6cu4gpgNG2CpZADuwrZ5HB771lpT6LqfjSbUL6R9XsoomjvrG1VpUjkOZJVj3JtbaRubIK7mOT3As9meW0V3N54l0/UNU8Oz29re6/f6ezfanvLZUe9QEMgIVpCxUAjJzxTvFrya94cl16y12+v9OXUChtdTiAltnZSQEfLAqRnIUr0XI4GDpf+v6YLV2/rr/kcJRRXW2P9h/YIPP/AOEY83y13/aP7U8zOOd2z5c+u3j0oA5KrOn6deatfR2em20lzcSHCxxjJ+p9AO5PApt75f26fyPJ8vzG2eRv8vGeNu/5sem7n1rsPAMsEOheLJDai7ul05dkG4rvj3jzMlcNtxtJwQSM8jrR0uDveyOU1DTJ9MdFuZLVy4yPs13FOB9TGzAfjVOup8Q6bYDwlous21iumXN88yPbRu7RyKhGJF3lmHXHUg44xXLUdbB0uFFFFABRRRQAUUUUAFFFFABRRRQAUUUUAFFFFABRRRQAUUUUAFFFFABRRRQAUUUUAFFFFABRRRQAUUUUAFFFFABRRRQAUUUUAFFFFABRRRQBat9Uv7SLyrW+uYY852RzMo/IGoZp5bmZpbiV5ZG6vIxYn8TVi10m8vY0eBEw7bE8yVE3n0UMRu69qqyI8UjRyKUdThlYYIPpQA2iiigAqa1u7mxukubG4ltp4zlJYXKMvbgjkVDWjoOi3PiHWItNsniSaVXZWlJCjapY9AT0U9qAEfX9Yk1KPUZNVvnvY12pctcuZFHPAbOQOT+Zpb/xBrOqW4g1PV7+8hDbhHcXLyKD64JIzyazqKANOXxNr08PlT63qMkewx7Hu5CNpGCuCehHGKZDr2sW2nNYW+q30VmwZTbR3LrGQeo2g45zzWfWhbWenS6Ld3NxqnkX0TKILL7OzeeCeTvHC49+tAdkM0/WdU0jzP7K1K7sfNx5n2ado9+OmdpGcZP51HBqN7a6h9utry4hvNxb7RHKyyZOcncDnJyc/Wq1FAF671vVb+5huL/U7y5ngOYpZrh3aM5z8pJyOeeKTUNZ1TV/L/tXUry+8vOz7TO0mzPXG4nHQVSooAKKK0dA0r+3PENjpfneR9rmWLzdm7Zk4zjIz+dNJt2Qm0ldmdU1peXNhdJc2NxLbTx52SwuUZcjHBHI4pb62+xajc2u/f5ErR7sY3bSRnH4VZ0HRbjxDrltpdk8ST3BIRpSQowpPJAJ6D0qYu6uhvTcr32oXup3P2jUrue7nwF824laRsDoMk5qvSsu1ip6g4pKY3fqFFa2j6H/AGnp2q381wba1023EjPs375GYKkeMjG4557YqI6Lcr4ZXXC8X2Zrs2gTJ37wgfOMYxg+v4UCM6iiigAoorQ1az060a2Gl6p/aIkgV5j9naLyZD1j+b72PUcGgDPooooAKK0tK0O51e11G4tniVNOtjcyiQkFlBAwuAeee+KzaOtgCilAyQPWr+vaLceHtcudKvXiee2YB2iJKnIB4JAPf0oAz6KKKACiiigAooooAKKKKACiiigAooooAKKKKACiiigAooooAKKKKACiiigAooooAKKKKACiiigDW0awVj/aV85hsbZwWfHMjDkIvqT+gqjqF2b/AFG4u2XaZpGfbnpk9KdBqmoWsQitb65hjHISOZlA/AGoZp5bmZpbiV5ZG6vIxYn8TQBHRRRQAV2/wp1K+g8b2ljb3txFb3AmLQJKypI/kvtJUHBOQMVxFPhmkt5kmgkeKWNgyOjEMpHIII6GmgO6+Huq6pqfxR0gazfXd48JmUC7maQp+6bI+Y8dOaxrnxVrOt202i30sV3HdXMfkmYY+ysDtAixhY1IOCAMY9KzZvEet3F5DdT6zqEtzACIZnunLx54O1icjPtWaTk5PJpb2v8A1rcOjsewW9pcRf8ACUaHqmrX+rLY6U/m272ISzt5FQMnlnf8pGPlwi5wSOlcrouoXl18K/FFtc3c80FubMQxSSlliBlOdoJwPwrnJfE2vTw+VPreoyR7DHse7kI2kYK4J6EcYp9v4r8Q2lvHBa69qcMMahUjjvJFVAOgABwBR3DS39eR0ljq99o/weWXTLh7WeTW3QzxHbIq+SpIVhyuSBnHXp0qj8TERPHl0yIqmWGCV9qgbnaJSzcdySSfrXNSX93Nbm3lupnhaUzGNpCVMhGC+Om4jv1pLq7ub6czXtxLcSkAGSVy7EAYAyfQDFD1d/T8rDTsrf1vcn0j7P8A2pF9t+yeTzu+2+d5XQ/e8n5+vp3xnjNbOsf2P/Zcn2L/AIR7zsjb9h/tHzeozjzvk+ue3TmuZooeogr13Rm1Oz8VeCtM0BriDTZrKC8uUtmKJOx/1ryEcNjAHPTgV5FV+DXdXtrNLO21S9hto3EiQR3DqisG3BgoOAc859eaqMrW9RNXTO0gttQ0631DVo9bv9Mgu9Ze2hj0u282eeQFjhjvT5fRSTkk8dzvJdz6Z8f0tLOeaztrxo3uLeMmJJZGgzlkBxksc/U15baa9q9gJhY6re2wuG3TeTcOnmH1bB5PPeoJr+8uLxbu4u55bldu2Z5Czjb935jzxgY9MVnFcqS7W/Ib1v5/5nR6V/wkPinxtY6ZdapcPdRXD+W2oO0wgK5LfI+ecL07kAVv6qw1L4V6lc3Go6nrH2XUIxbXmp22xkJ+VxGxkckHAyOMccZrhbrxBrN9PBNe6tfXEts2+CSa5d2ibg5Uk8HgdPSlufEGr34K6jqd7exsV3x3Fy7q+05AIJ5xk/TJp2vG39bobfvc39df8zd1wNoPgbStEB23GoH+0rxe4BG2Ff8AvnLY9TWoviLX/wDhUSXcGsakJotYMTzJdSbkj8kbVLZyFz26Zrjdc1m51/WJ9SvRGss2PkiBCIAAAqgk4AAHemafrOp6QZDpWo3diZMb/s07R78dM7SM9TT6Pz/zX6KwtreX9fmdpoerX1h8Jdav7W4dLxtVT/STzIpZCGYMeQxBI3Dnk81W0e81XxRf3etTX66bJpOmAXN9bQmS5lVeAwywJkPQvuXjv68g+pX0lvNA95cNDPJ50sZlYrI/95hnBb3PNFjqN7plx9o028uLObBXzLeVo2weoyDmjq/66WDol/W9zufG800fhjwnq8d1fPfsJ9uoXUXkXMiKylCSGYnAbg7jwc96o/EC4mu28MT3Usk00miwM8kjFmclmySTyTXNvr+sy3EVxLq1880Ds8UjXLlo2b7xU5yCe5HWn3niXXdRtjb6hrWoXUDEExT3TupI5HBOKcXZp+dx/wCVvxPUtW1O7vviJ4s0i5lLabHpM7LaY/dbhErhyvQvu53dfevLNO8Papqum31/p9o01rp6B7mQMo8scnOCcnoemagOrai15Ndtf3RuZ0KTTGZt8ikYKs2ckEcYNMt9QvLS3ngtbueGG5ULPHHIVWUDoGA4I571KVl8gvpbz/y/yO1+H+sapHoniSztNQvE8jSpJreKOZwI2DqWZQDweTyOetV/A2r63qPjHFxcy6hb3MDR6l9tmZkNqAdxdjnAUHg+vHeuRs7260+6S5sLma1uEzslhkKOuRg4I5HBqzL4g1mdp2n1a+ka5jEc5e5cmVBnCtk/MOTwfWm7Xv5W/P8AzJtpb+uh2XjTU77QpNGt/C97cWfh8WwksJrWdkM+f9Y7kY+fPBHb2zVf4qatq58a6np82oXp09mjeO2aZ/KK7FIIXOOvP1rjW1C8fT0sXu52s433pbmQmNW/vBegPJ596nm13V7jTl0+41W9lslAVbZ7h2jAHQBSccdqHt/XUZQooooAKKKKACiiigAooooAKKKKACiiigAooooAKKKKACiiigAooooAKKKKACiiigAooooAKKKKALllYJeFF+320EjvsWOUSZJ7chSB+dV54JLa4kgnXbJGxR1znBHBrT0WC7WVLiHRzeoJAVldH2oQfUEL/wB9ZAqrrIiGtXfkXBuUMpImJB3+pyODz3FDApUUUUAFTpZXUtnLdxW0z20JCyzLGSkZPQFugz71BXW+AJxc31/4enbEGt2rW65xhZh80Tfgwx/wKjoHqc2um3zwQTLZ3DRXMnlwSCJtsr9NqnHJ9hUmoaPqekNGNW067sTJnYLmBo9+OuNwGeo/Ou8ewj1DxxonhKLUHsodHtjDJJbttkecqXmVD/eZjs59O/QprWmtY/CNrf8AsrUNPzrEbR29/OssozGwyFCIUzjoRz1FHmv61sC1dv62uc7rGjaVH4M07XNLjvIXurqWB4ri4SUDYAcgqi+tV4dESPwldalqGma0spKGzuo7fFoVJwd7kfgMHrXR6r4e1qL4S6XHLpF+klvfXEsyNbODEm1fmYY4HB5PFM8N+H9Zl+GviYRaTfObwWbWwW2c+eBISSnHzADnijrL5foJXsm/P82cbp+kalqzumlafdXrRgFxbQNIVB9doOK0vGmhW/hvxVc6XaNM0UKRkGYgtlkVjnAHcntW7HpN/q3w007T9FgdpIdUlGpRAYMbkAI8n91QoYbjgDmqfxSAHxDvgGVgI4MMpyD+5TkUPf8ArsVHVX/rexyFFXdIuIbXVIprmTy41zlvscd1jgj/AFUhCt+J469RWzrGsadd6XJDbXfmSMRhf+Eds7XPI/5aRuWH4DnpQxHM10PhHwpeeJNasozY3z6bJcLFcXVvCSsY4z8+CoIBB5rnq9b0/TbvUPEvgW+sVH9jWlnb7p9wEMUwYiRc9BIz4GOpJH4XFK6v3RMr2dux5y3h/ULrV7600XT7y/W0mZD5ELSsoDEAttHGcVc8L+DtR8S+IF00QXVvGsjR3NwLZnFswBOHHGDkYwSK6OLw19vsdRv1j1PVXOtSRLYadcLELY8/vpCUfGegOAABy1al7cQ2v7Q9nNcOsSsIQzs4I3NbhRlhweSOaxp3cY330/FXLl9prpf87Hm2oaFqulyxx6jpl5atMxWIT27x+YR/dyOeo6etN1DRdU0gRnVdNvLESZ2G5gaPfjrjcBnqK6DR/COpx+O9P0/WReaH9ouWWO5dDGWK5OI2OASTgAg9WHWug1HSxpvwo1mH+ytR01BfwSRxalOjyHll3hAiFMgYzznseKpu0eb+t0v1G179v66/5HHaLokF3oesatqLSpbWEKrF5bBTJO7YReQcgDJPfAq8Ph7rreFo9Vj03UXne6MIs1sXLbNgYS567STjpj3p/ihf7D8M6P4cU7Z2X+0L9f8AprIBsU+6pj/vqrNhp95rXwla00i2lvbq21nzpYLdC8io0IUNtHOMgjNV0l5W/NX/AF+RK6ef+Whytpo+pX95JZ2OnXdzcxZ8yCGBndMHByoGRg8UxNNvpdS/s+OyuHvdxT7MsTGTcOo24zkYPFdzoFrHdfDa+0tNM1C+v49TD3llYziKcxhQFJUxuWVXyMAcHk1Kuu6o/jNmTwpePN/ZAsbvT7mVvtVzFgKX3BVYuRt5CngE9Oh1t/W1wWq/rvY4oeHda/tIaedIvxeFPM+z/ZX8zb/e24zj3rR8VeCtU8L6ldxSWt5PY27Kov2tGjifIHfkdTjrVjxjo1vo1voxglv4fOgZ30zUXDTWZ3c8ADCsSSPlBOM9+LnxN0rUH8XahrUdnPJpdz5UsV6kZaF1ZFA+ccdeOtJ7L5/1+YHEV1MPw/1u48J/2xFp+oPM1ysSWi2TlnjKbvNB7r26Y96oXXha9tPB9n4kkltjZ3kzQxxrITIGG7qMYx8p7+lbmkWV1rPwpvrDSreS8vINWjuHt4FLyeWYyu4KOSM+lD2YLdfP9TlJ9J1G2tnuLmwuoYI5TA8skLKqyDqhJGA3t1rZ8O+BtY13XLWxlsb6zhnAdrprN2WNGBKuegwdpAOQDXQeBIm0PTtTvPFsJTw8ZUtp7S4iJM1wHGNq8EFMEsfQEYPaSL7bpfxzs7vxFcpIs9yJIrsfLFJE6kRsuTgLggdTjGO1Nbpd/wCv68hP4W+39f8AA9ThtT0PVNGZRqmnXdmrsRG1xA0YfHXG4c9R+dUK1Nd0HVdEvpE1XT7m1DSuqPLEyrJg8lSRhh05HqKy6lO6NJpKTsFFFFMgKKKKACiiigAooooAKKKKACiiigAooooAKKKKACiiigAooooAKKKKACiiigAooooAKKKKACirulaVcaxei2tSinGWeQ4VR05P1IH41VniaC4khcgtGxUkdMg4oAZRRRQAUUVZtNOvb/d9hs7i52FQ3kxM+0scKDgdzwPU0AVqKt3Ok6jZXyWV5YXVvdSY2QSwssjZOBhSMnJqS70HV7C4ggvtKvraa4bbDHNbOjSnIGFBGSckdPWgChRWofDOvAEnRNRACGQ5tJPuDq3ToPWoLXRdUvbGW8stNvLi1hz5k8UDOiYGTlgMDA5oApUVc0/SNS1Z3TStPur1owC4toGkKg+u0HFVpYpIJnhnjaOWNiro64ZSOCCD0NADKKKKACiiuh8I+FLzxJrVlGbG+fTZLhYri6t4SVjHGfnwVBAIPNNJt2E3ZXOeorVbw/qF1q99aaLp95fraTMh8iFpWUBiAW2jjOKueF/B2o+JfEC6aILq3jWRo7m4Fszi2YAnDjjByMYJFTF8yTQ3puc9So5SRXXGVORkAj8j1q9qGharpcsceo6ZeWrTMViE9u8fmEf3cjnqOnrTdQ0XVNIEZ1XTbyxEmdhuYGj34643AZ6infqDXQZqWpXer6lNf6jN51zO26R9oGTjHQYA4Haqtbmi6JBd6HrGrai0qW1hCqxeWwUyTu2EXkHIAyT3wKo2mh6tqFnJd2Gl3t1bRkh5obd3RCBk5YDAwOaNtA31KNFdJp/hVtT8EvqmnwXl1qI1EWq28CbwU8ouTtAznjrnGKy4dA1i5vprK30m+lu4BmW3S2dpI/8AeUDI696Otg6XM+itnxNptrpd7bwWllq1mxt1aaPVYhG5fJyVAA+TjjPPWsbrQAUVoz+HtatrWW6udIv4beE7ZJZLZ1RDnGCSMDkim2Ohavqdu9xpulXt3ChKvJb27yKpxnBIGBxQBQoq7b6Nql3am6tdNu57dVZjLHAzIAuNxyBjAyM+maJdF1SDUIrGfTbyO8mAMdu8DCRwemFIyehoDpcpUVZvtNvtLuBb6nZXFnMVDCO4iaNiD3wQDjg1LqGiatpMaPqmmXlkkhwjXNu8YY+24DNAFGiiigAooooAKKKKACiiigAooooAKKKKACiiigAooooAKKKKACiiigAooooAKKKKACiiigAooooA6fRWtEXTba2v4Vlkuo5blWSQMxDfKgwuMDryep9qxdXjWPV7kJMkwMrElAwAOTxyBzVKih6gFFFFABXZ+DLqey8G+MZrSVoZfskKh0OCA0u0/oSK4yijpYFo0z03T9M/tzTvAVrJfy2ZaG8/exPtlYLIcRoT/ER8o7c9+h0tN086f4W0eFtMv9NH/CTWrpBqFwskgyCC20IhQHHQjnrXkFFVze9dd7/jcX9fhY+gbK7uJ9U0lZpncSa1qgYE8MFSRVH4DgVy7yER+FNW0HQtZ1aPT7KIRtpt2PLilXmVHRYWIJJ+bJG4GvJqKlaW+X4Dev4/i7ne6PdXGq6fq2mv4XvbzSrzUftDxaW5+0WT56EBSCoXIAZQCQcEEcc74wsY9M8XX9nDqD6ikUgAuJH3OeB8rEEgsv3T7jt0rEopWXQdy7pFxDa6pFNcyeXGuct9jjuscEf6qQhW/E8deorZ1jWNOu9LkhtrvzJGIwv/AAjtna55H/LSNyw/Ac9K5mim9RBXren6bd6h4l8C31io/sa0s7fdPuAhimDESLnoJGfAx1JI/DySiqUrW9biaumj0SLw19vsdRv1j1PVXOtSRLYadcLELY8/vpCUfGegOAABy1al7cQ2v7Q9nNcOsSsIQzs4I3NbhRlhweSOa8norOK5Ul2t+Vim7387/nc63R/COpx+O9P0/WReaH9ouWWO5dDGWK5OI2OASTgAg9WHWug1HSxpvwo1mH+ytR01BfwSRxalOjyHll3hAiFMgYzznseK8ypUcpIrrjKnIyAR+R607Xjy/wBbp/oDd5c39df8zrPFC/2H4Z0fw4p2zsv9oX6/9NZANin3VMf99V0k1rqeo654Q1Pw8sv9kWdpADcRsRFaMhzP5h6IepOeox1rzjUtSu9X1Ka/1Gbzrmdt0j7QMnGOgwBwO1VapN3v53Javp5WPUr5rnWPBviSPwlBc3EVz4iYmKzQuWhKE5IUZ2kgfpXN/EWeOTWNOt2mjnvLPTILa9kRt2Z1B3AnuRwCfUY7VyNXdOn0+FpV1Wxlu43UbTBceS6EHsSrAg9wV9MEd5SSVvT8FYtyvr6/i7nQeP8A7/hz/sA2v/s1Z3iDwte+GJtPXUJbaQ3tutzH9nk3YU9jwOfzHoTUPiPXn8Q6mlwbdLWCCFLe2t0ORFEgwq57n1Pcnt0rJq1K0+bzuT0t5Hr+o3U8/wAWvFqTSu6x6LcRIrHhUEKnaB6ZJP1NZ/hfw35MfhTU4Y9U1RpJvN8+3u1ittPxIMo25G56kjK5zgZJrzCipjpby/4P+YPVW/rp/ke+6XK8OuWEMR2Rt4g1RigGASInx/M1n200Nxpem+eJZ9VvfDTJb+XOIppyZMuquwb5yM9ieuOteJUUmrpLyt+DX6j63/re531zf6jpyeHdOtfDF9p89jfNPZPrEufMJIJjBMcYC7sHg9T60eK9Khfw7ea3LZ6p4fvLm+DSaZfykpckgkvGGVWO0sckg43dea4Gim9V/Xl/kJaP+vP/ADCiiigAooooAKKKKACiiigAooooAKKKKACiiigAooooAKKKKACiiigAooooAKKKKACiiigAooooA0IdK36dHezXtvbRSO0aiQSEkjGfuqfWqMihJGVXWQA4DrnDe4yAfzrY0ptYe3hitrIXNmspb99aq8YPG7LsvA455FUtXW0TWLldNObUORGQcjHse4zQ9wWxSooooAK6Dw/4ej1rQ9buQLh7uxjhNtFCM+YzyBMEYJPXgDHNc/Xc+ATfnw34sj0YTvfvaQiJLZS0jAyYbaBz0J6etAL4l6r8zkbnSdRsr5LK8sLq3upMbIJYWWRsnAwpGTk0uoaPqekGMarp13YmTOwXMDR78dcbgM9RXottpRvV8HeHNSvpNP1S3S5kmVG23EUbHdHDk/ddhnCnoG5HYw6rYJpvwpWO50rUNPhGsxyfZr+4WSXaY2BIARCmcdCOetO39fOwf1+DZwI0XVDpf9pDTbw2H/P15DeV1x9/GOvHXrWrrPhn7Mugx6RFdXdzqmnrctCq72LlmBChRnGF9+9bfj/TdaufFF5rFik8ujtADa3sLH7OtvsxsD/dX+JdmQSTjB3c9RHNHceGdJ0fTJBY+Ib3QYxaXbMP3yB33W6k/cZv73fpxxmXflul8vvHHf5fLdf1/keRz6dfWsLy3NncQxpMYGeSJlCyAZKEkcMPTrUo0PVmneBdLvTLHs3xi3fcu/ATIxxuyMeuRiuttdF1LUvhmdJsbOWXULXXSbi2C4eAGEKGcH7q5BGTgDBrrtSXUBqvjWPRPOmvDplikf2MF2cFUB27eT8ueR2qnp/XlcaV3b+t0jx++0690u4+z6nZ3FnNtDeXcRNG2D3wQDiq1dh4uDWfhLwzpWoZTVLSKdp4X+/BG7gxqw/hOOdp5APbNcnbusdzE7nCq4JPlh8DP908N9DwaS3JeiI6K7CfXtKe3kRL7LMhAH/CKWCZOP7wfI+o5FcfQBa03T59W1S20+zXdPcyrEg9ycc+1amqeH2k8R39l4WtL/UbW0m8kSJGZWJHGTsXGCQ2Par/AIOX+ydM1bxRIdrWMX2ayPrcygqCP91dx/KtX4dTyweHNfeKRkZrrT0Yg8kNPgj8QSPxqkru39av+vvE3aLf9f1/kch/wjeubVP9i6hhgxU/ZX5C/exx27+lUorO6ntpriG2mkgt8edKkZKx5OBuPQZPTNez+JNel0N59WctL9l8WMrA8kxfZgrKP+A5Fc34nt7Hwha2ugrIr22o6l/aNxsJObQNiFT6gjcceoqVrbzt+Nn+T/BlPS/l/wAH/L8TA8N+C7rU7W/vdTsdQt7KHTZruC5EJWOR1GVG4rgg89Kx7Xw5rl6ivZaNqFwrp5itFau4ZckbhgdMgjPtXpz6VqY8ZeM9WvVxZzaXcraTMcLPGUBTyj0YBAM44HGetc54q1K8svB/gf7LcyRiG2a4RQflEiyfK2OhI/xpX2v1t+v+QvJef4cv+ZgeGNDGp3zvf6XrV5YRAiVtJt/MkRscA5GB+NZEdncT289xb200lvb482VYyVjBOF3EcDPvXb/DaHVtZ+I8GtS2txco0k7XN0kB8sO0bHkqNoJJHHHWqngyO50vxLN4e1y2nsotatms5I7iIxsrMP3b4YZ+9jn3NVZ/O346hovS/wCByZsrpbJbw20wtWfy1nMZ2F8Z2humcdqnv9E1XSo45NU0y8skkOEa4t3jDfQsBmvQ7W6sND8deFdA1J4Y7fRYy1y8jYVbuRS5JJ4+Vtgz2xWZrT3uj+G9asLrwvrkCX1wjy3moXPmxpKr53qRCoJbkZ3cik7Wuv6/r/Ia3szndF0SC70PWNW1FpUtrCFVi8tgpkndsIvIOQBknvgVlzWF5bPAlxaTxNcIskIeMqZVboy56g9iOtdL4oX+w/DOj+HFO2dl/tC/X/prIBsU+6pj/vqui8LSW2teGtM1XUSpPhCV3mBPMkO0vEPf94u3Hoaemr6L+n+P4C1sl3/pfh+JwEOgaxc301lb6TfS3cAzLbpbO0kf+8oGR170WFtbwax9k1yzu+H8p4Y5RBJG+cc7kbpzxj8a68vqPij4czLpMU15qEmryXOpQWyl5HDqNj7BklAcj2P50nii1u9X8VaLaWcE+oapY6fbx6l9nUzMsqn5txXOSuVBPrxThrJJ+X5X/wCAKXwtrz/O3/BOa8XaPBoPi7UNKsmleC2l2I0pBYjAPOAB39KrXug6xpvlf2jpV9aec22Pz7Z03n0GRya9JuoG0v48zX2rWz2tvcTSCzubmMpE0vlYUhjwcMRyOmRWJDaaloXgbxNF4qiuLZ72SIWsV0cPNOsmXkUNy2B1YdcjmsoP3It9v6+f+aKesml/Xn6f8E4waVqB1P8As4WFyb7dt+y+S3m5xnGzGc456VqeFfBup+L7ye300wQ/Z0DSS3LFUBJwF4BOTzgY7Gu2ubxBpL/EJWT7VcaYLEA/e+2n907j0/dqW/GpvBM+lLq3hnS9G1qzZIme5vIjFOss9w0bAj/V7dqDgZb1NX5f1/Vtfmiel/6/rp955VBazXN5Ha26GSaWQRoi9WYnAA/GuwPg7TJfEWv6XZTXVwdJ05pUZHVjLcrsDDAX7u5iMdeOtN8LWcOk6tqviA3MF3BocJlhljV9klw/yxLhlVuGJPT+Gn/Dma+kvvEcli076hJo05iMWTK0hdDlcclvpzTW3yb/AA0/r0KatL52/r+u5yV/peoaVMsOqWNzZSsu5UuIWjYjpkBgOOKlv9C1fS4Um1PS72zic7Ue4t3jVjjOASBmu5TTpP8AhHfC3h3Wrz+y9Uk1R5ozLlZrOFsYyDypZxkA47H3q7d6P/ZPgPxjD/ZuqWcfmw7W1K5R2nKzY8xUEakZB+98wOcA8VL0/r0/z+8S1dv66nnEWiatPprahBpl5JZICWuUt3MagdcsBjitLUPD0cPhrw7e2IuJ7zVjOrQgbsskgVQgAzk59+a6Lxrp+s6jrFvqnh9LibREsI/sVzbsRDbRLHh0L9EIIYEEg1u+H7m1XwL4cskmWw1m9gvYdN1F+VgczDK/7JcfKH6jt1qu/wDXf+v8w7XPK7nSdRskla80+6t1hkEUhlhZQjkZCnI4JHOPSlGkakZAg0+6LmD7QFEDZMX/AD06fd/2uldnaaFq0/w/1bQo7GeTVrbWIpJrRVzIqmNl34/u5I+bpznpXUwRXll4uSGxYyXsPgwJE1q3mZkC4Gwjrz0xS2V/62uPdpL+tbHkeoaTqWkuiarp91ZNIMotzC0ZYeo3AZqnXaa3Hc6b8NLLTdcEkWpy6nJdR29xkSxwlNpZlPKhnyRnrgmuLo62EFFFFABRRRQAUUUUAFFFFABRRRQAUUUUAFFFFABRRRQAUUUUAFFFFABRRRQAUUUUAFFFFABWvpWu/wBmaHrOnfZ/N/tSKOPzN+PK2OGzjHOcY6isiigNncKKKKACiiigC2+qXj6PHpbS/wChRzGdYgij5yMFiQMngY5PFVKKKALemzWEF6smq2k15brz5MNwISxz3ba3HXoAfcVPr+uXHiHWJdQulWMsAkcSfdiRRhUX2ArNooAKKKKACiiigApUcpIrrjKnIyAR+R60lFAFrUtSu9X1Ka/1Gbzrmdt0j7QMnGOgwBwO1aUniGGDwzJo2kWclql06yX00s4lecqPlUYVQqA5OOTkjnisOijpYOtwooooAKKKKACiiigC2NTu10dtLWXFm04uGjCL8zhdoJbGTgE8ZxzVSiigAooooAKKKKACtfw9rv8AYMt+/wBm+0fbLGWzxv27N4A3dDnGOn61kUUB1uFFFFABRRRQAUUUUAFFFFABRRRQAUUUUAFFFFABRRRQB//Z)\n",
        "\n",
        "\n",
        "My obj.names file\n",
        "\n",
        "![image.png](data:image/png;base64,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)"
      ]
    },
    {
      "cell_type": "code",
      "metadata": {
        "id": "KpT_R-qFCHGs"
      },
      "source": [
        "# upload the obj.names and obj.data files to cloud VM from Google Drive\n",
        "!cp /mydrive/yolov4/obj.names ./data\n",
        "!cp /mydrive/yolov4/obj.data  ./data"
      ],
      "execution_count": null,
      "outputs": []
    },
    {
      "cell_type": "code",
      "metadata": {
        "id": "o7x6IEQoCJm_"
      },
      "source": [
        "# upload the generate_train.py and generate_test.py script to cloud VM from Google Drive\n",
        "!cp /mydrive/yolov4/generate_train.py ./\n",
        "!cp /mydrive/yolov4/generate_test.py ./"
      ],
      "execution_count": null,
      "outputs": []
    },
    {
      "cell_type": "code",
      "metadata": {
        "id": "HFEsBV5_CLdr"
      },
      "source": [
        "!python generate_train.py\n",
        "!python generate_test.py"
      ],
      "execution_count": null,
      "outputs": []
    },
    {
      "cell_type": "code",
      "metadata": {
        "id": "o8fo6YcpCNWV"
      },
      "source": [
        "# verify that the newly generated train.txt and test.txt can be seen in our darknet/data folder\n",
        "!ls data/"
      ],
      "execution_count": null,
      "outputs": []
    },
    {
      "cell_type": "code",
      "metadata": {
        "id": "3_9nQMWzCPuT"
      },
      "source": [
        "!wget https://github.com/AlexeyAB/darknet/releases/download/darknet_yolo_v3_optimal/yolov4.conv.137"
      ],
      "execution_count": null,
      "outputs": []
    },
    {
      "cell_type": "code",
      "metadata": {
        "id": "MkZAD7maCZ5B"
      },
      "source": [
        "# train my custom detector! (uncomment %%capture below if you run into memory issues or your Colab is crashing)\n",
        "# %%capture\n",
        "!./darknet detector train data/obj.data cfg/yolov4-obj.cfg yolov4.conv.137 -dont_show -map"
      ],
      "execution_count": null,
      "outputs": []
    },
    {
      "cell_type": "code",
      "metadata": {
        "id": "-qhHw2T7Cdvc"
      },
      "source": [
        "# show chart.png of how custom object detector did with training\n",
        "imShow('chart.png')"
      ],
      "execution_count": null,
      "outputs": []
    },
    {
      "cell_type": "code",
      "metadata": {
        "id": "JmpnDmDtChNU"
      },
      "source": [
        "# kick off training from where it last saved\n",
        "\n",
        "!./darknet detector train data/obj.data cfg/yolov4-obj.cfg /mydrive/yolov4/backup/yolov4-obj_last.weights -dont_show"
      ],
      "execution_count": null,
      "outputs": []
    },
    {
      "cell_type": "code",
      "metadata": {
        "id": "py3d-tedCkM0"
      },
      "source": [
        "!./darknet detector map data/obj.data cfg/yolov4-obj.cfg /mydrive/yolov4/backup/yolov4-obj_last.weights"
      ],
      "execution_count": null,
      "outputs": []
    },
    {
      "cell_type": "code",
      "metadata": {
        "id": "KyG2qdEgCq4s"
      },
      "source": [
        "# need to set our custom cfg to test mode \n",
        "# %cd cfg\n",
        "# !sed -i 's/batch=64/batch=1/' yolov4-obj.cfg\n",
        "# !sed -i 's/subdivisions=16/subdivisions=1/' yolov4-obj.cfg\n",
        "# %cd ..\n",
        "#or create another file for test mode\n",
        "!cp /mydrive/yolov4/yolov4-obj_test.cfg ./cfg"
      ],
      "execution_count": null,
      "outputs": []
    },
    {
      "cell_type": "code",
      "metadata": {
        "id": "gMko3YynCt0F"
      },
      "source": [
        "#here i can run my custom detector with this command (upload an image to your google drive to test, thresh flag sets accuracy that detection must be in order to show it)\n",
        "!./darknet detector test data/obj.data cfg/yolov4-obj_test.cfg /mydrive/yolov4/backup/yolov4-obj_final.weights /mydrive/images/people.jpg -thresh 0.25\n",
        "imShow('predictions.jpg')"
      ],
      "execution_count": null,
      "outputs": []
    }
  ]
}